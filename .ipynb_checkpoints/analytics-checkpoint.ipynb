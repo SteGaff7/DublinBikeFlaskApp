{
 "cells": [
  {
   "cell_type": "code",
   "execution_count": null,
   "metadata": {},
   "outputs": [],
   "source": [
    "class stationPrediciton():\n",
    "    \n",
    "    def __init__(self, name, number, totalBikes):\n",
    "        self.name = name\n",
    "        self.number = number\n",
    "        self.totalBikes = totalBikes\n",
    "        self.model = dict() # Has Key:Value pair = {Feature: co-efficient}\n",
    "        \n",
    "    def prediction(self, time, day, weather): # This will provide return the predicition\n",
    "        prediction = 0 # Intialise the prediction to 0\n",
    "        for k , v in self.model: # Loops through the dictionary and extracts key and value\n",
    "            if k == 'time':\n",
    "                prediction += v*time\n",
    "            elif k == 'day':\n",
    "                prediciton += v*day\n",
    "            elif k == 'weather':\n",
    "                predicition += v*weather\n",
    "            else:\n",
    "                predition += v # This condition covers the bias or (w_0)\n",
    "            \n",
    "    def train(self, availableBikes, time, day, weather): # This will train the model\n",
    "        \n",
    "        \n",
    "        \n",
    "        \n",
    "        "
   ]
  }
 ],
 "metadata": {
  "kernelspec": {
   "display_name": "Python 3",
   "language": "python",
   "name": "python3"
  },
  "language_info": {
   "codemirror_mode": {
    "name": "ipython",
    "version": 3
   },
   "file_extension": ".py",
   "mimetype": "text/x-python",
   "name": "python",
   "nbconvert_exporter": "python",
   "pygments_lexer": "ipython3",
   "version": "3.7.2"
  }
 },
 "nbformat": 4,
 "nbformat_minor": 2
}
