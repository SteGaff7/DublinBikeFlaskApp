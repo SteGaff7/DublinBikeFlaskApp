{
 "cells": [
  {
   "cell_type": "code",
   "execution_count": 1,
   "metadata": {},
   "outputs": [],
   "source": [
    "# Library Imports.\n",
    "import pandas as pd\n",
    "import matplotlib.pyplot as plt\n",
    "import numpy as np\n",
    "import csv\n",
    "\n",
    "# Allows plots to appear directly in the notebook.\n",
    "%matplotlib inline\n",
    "\n",
    "from patsy import dmatrices\n",
    "from sklearn.linear_model import LinearRegression\n",
    "from sklearn.model_selection import train_test_split\n",
    "from sklearn import metrics\n",
    "from sklearn.model_selection import cross_validate\n",
    "from sklearn.model_selection import train_test_split\n",
    "from sklearn.ensemble import RandomForestRegressor\n",
    "from sklearn.metrics import classification_report, confusion_matrix, accuracy_score"
   ]
  },
  {
   "cell_type": "code",
   "execution_count": 2,
   "metadata": {},
   "outputs": [],
   "source": [
    "class stationPrediction:\n",
    "    \n",
    "    def __init__(self, number, name, totalBikes):\n",
    "        self.number = number\n",
    "        self.name = name\n",
    "        self.totalBikes = totalBikes\n",
    "        self._model = dict() # Has Key:Value pair = {Feature: co-efficient}\n",
    "    \n",
    "    @property\n",
    "    def prediction(self, time, day, weather): # This will provide return the predicition\n",
    "        prediction = 0 # Intialise the prediction to 0\n",
    "        for k , v in self._model: # Loops through the dictionary and extracts key and value\n",
    "            if k == 'time':\n",
    "                prediction += v*time\n",
    "            elif k == 'day':\n",
    "                prediciton += v*day\n",
    "            elif k == 'weather':\n",
    "                predicition += v*weather\n",
    "            else:\n",
    "                predition += v # This condition covers the bias or (w_0)\n",
    "        return predicition\n",
    "                \n",
    "    @prediction.setter  \n",
    "    def prediction(self, availableBikes, time, day, weather): # This will train the model       \n",
    "        pass"
   ]
  },
  {
   "cell_type": "code",
   "execution_count": 3,
   "metadata": {},
   "outputs": [],
   "source": [
    "station_list = [] # creates a new list\n",
    "\n",
    "with open('full_dataframe.csv', newline='') as station_file: # opens the csv file\n",
    "    reader = csv.reader(station_file) # reads the cotents to a variable \n",
    "    next(reader, None) # returns none at the end of the file\n",
    "    for station in reader: # iterates through the reader\n",
    "        number = station[1] # assigns variable\n",
    "        name = station[2] # assigns variable\n",
    "        total_bikes = station[4] # assigns variable\n",
    "        number = int(number)\n",
    "        total_bikes = int(total_bikes)\n",
    "        station_list.append(stationPrediction(number, name, total_bikes)) "
   ]
  },
  {
   "cell_type": "code",
   "execution_count": null,
   "metadata": {},
   "outputs": [],
   "source": []
  }
 ],
 "metadata": {
  "kernelspec": {
   "display_name": "Python 3",
   "language": "python",
   "name": "python3"
  },
  "language_info": {
   "codemirror_mode": {
    "name": "ipython",
    "version": 3
   },
   "file_extension": ".py",
   "mimetype": "text/x-python",
   "name": "python",
   "nbconvert_exporter": "python",
   "pygments_lexer": "ipython3",
   "version": "3.7.2"
  }
 },
 "nbformat": 4,
 "nbformat_minor": 2
}
